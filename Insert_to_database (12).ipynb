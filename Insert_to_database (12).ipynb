{
 "cells": [
  {
   "cell_type": "code",
   "execution_count": 3,
   "metadata": {},
   "outputs": [],
   "source": [
    "import pandas as pd\n",
    "import mysql.connector as mc\n",
    "import numpy as np"
   ]
  },
  {
   "cell_type": "code",
   "execution_count": 3,
   "metadata": {},
   "outputs": [
    {
     "name": "stderr",
     "output_type": "stream",
     "text": "C:\\Anaconda\\lib\\site-packages\\numpy\\lib\\arraysetops.py:569: FutureWarning: elementwise comparison failed; returning scalar instead, but in the future will perform elementwise comparison\n  mask |= (ar1 == a)\n"
    }
   ],
   "source": [
    "prod = pd.read_csv(r'./dta_at_prod_id.csv', index_col=0)\n",
    "sql = '''insert into Products(brand_at_prod_id, department_at_prod_id, prod_id, group_at_prod_id, module_at_prod_id, amount_at_prod_id, units_at_prod_id) values (%s, %s, %s, %s, %s, %s, %s)'''"
   ]
  },
  {
   "cell_type": "code",
   "execution_count": 4,
   "metadata": {},
   "outputs": [],
   "source": [
    "prod.fillna('NULL', inplace=True)\n",
    "prod.loc[prod.amount_at_prod_id == 'NULL', 'amount_at_prod_id'] = -1.0  # set float NULL as -1 in order to insert into database"
   ]
  },
  {
   "cell_type": "code",
   "execution_count": 5,
   "metadata": {},
   "outputs": [],
   "source": [
    "prod_tuples = list(prod[['brand_at_prod_id', 'department_at_prod_id', 'prod_id', 'group_at_prod_id', 'module_at_prod_id', 'amount_at_prod_id', 'units_at_prod_id']].itertuples(index=False, name=None))"
   ]
  },
  {
   "cell_type": "code",
   "execution_count": 88,
   "metadata": {},
   "outputs": [],
   "source": [
    "mydb = mc.connect(\n",
    "    host=\"localhost\",\n",
    "    user=\"root\",\n",
    "    passwd=\"12345abcde\",\n",
    "    database=\"db_customer_panel\"\n",
    ")"
   ]
  },
  {
   "cell_type": "code",
   "execution_count": 38,
   "metadata": {},
   "outputs": [],
   "source": [
    "# Before import data, set max_allowed_packet=2048M and innodb_buffer_pool_size=2048M in mysql system file my.ini\n",
    "sql = '''INSERT INTO Products(brand_at_prod_id, department_at_prod_id, prod_id, group_at_prod_id, module_at_prod_id, amount_at_prod_id, units_at_prod_id) VALUES (%s, %s, %s, %s, %s, %s, %s)'''\n",
    "mydbcursor = mydb.cursor()\n",
    "\n",
    "# In case that mysql connector could not upload large dataframe, split the dataframe and insert seperately\n",
    "mydbcursor.executemany(sql, prod_tuples[:1000000])\n",
    "mydbcursor.executemany(sql, prod_tuples[1000000:2000000])\n",
    "mydbcursor.executemany(sql, prod_tuples[2000000:3000000])\n",
    "mydbcursor.executemany(sql, prod_tuples[3000000:])\n",
    "mydbcursor.execute('UPDATE Products SET amount_at_prod_id=NULL WHERE amount_at_prod_id<0')  # change float -1 to NULL\n",
    "mydb.commit()"
   ]
  },
  {
   "cell_type": "code",
   "execution_count": 42,
   "metadata": {},
   "outputs": [
    {
     "name": "stdout",
     "output_type": "stream",
     "text": "affected 39577 rows\n"
    }
   ],
   "source": [
    "del prod, prod_tuples\n",
    "hh = pd.read_csv(r'./dta_at_hh.csv', index_col=0)\n",
    "sql = '''INSERT INTO Households(hh_id, hh_race, is_latinx, hh_income, hh_size,hh_zip_code,hh_state,hh_residence_type) VALUES (%s, %s, %s, %s, %s, %s, %s, %s)'''\n",
    "hh_tuples = list(hh[['hh_id', 'hh_race', 'hh_is_latinx', 'hh_income', 'hh_size', 'hh_zip_code','hh_state','hh_residence_type']].itertuples(index=False, name=None))\n",
    "mydbcursor = mydb.cursor()\n",
    "mydbcursor.executemany(sql, hh_tuples)\n",
    "print(f'affected {mydbcursor.rowcount} rows')\n",
    "mydb.commit()"
   ]
  },
  {
   "cell_type": "code",
   "execution_count": 89,
   "metadata": {},
   "outputs": [],
   "source": [
    "# del hh, hh_tuples\n",
    "# trips = pd.read_csv(r'./dta_at_TC.csv', index_col=0)\n",
    "# trips.fillna(-1, inplace=True)  # set float NULL as -1 in order to insert into database\n",
    "sql = '''INSERT INTO Trips(hh_id, TC_date, TC_retailer_code, TC_retailer_code_store_code, TC_retailer_code_store_zip3, TC_total_spent, TC_id) VALUES (%s, %s, %s, %s, %s, %s, %s)'''\n",
    "# trips_tuples = list(trips[['hh_id', 'TC_date', 'TC_retailer_code', 'TC_retailer_code_store_code', 'TC_retailer_code_store_zip3', 'TC_total_spent', 'TC_id']].itertuples(index=False, name=None))\n",
    "mydbcursor = mydb.cursor()\n",
    "mydbcursor.executemany(sql, trips_tuples[2:])\n",
    "mydbcursor.execute('UPDATE Trips SET TC_retailer_code_store_zip3=NULL WHERE TC_retailer_code_store_zip3<0')  # change float -1 to NULL\n",
    "print(f'affected {mydbcursor.rowcount} rows')\n",
    "mydb.commit()"
   ]
  },
  {
   "cell_type": "code",
   "execution_count": 81,
   "metadata": {},
   "outputs": [
    {
     "data": {
      "text/plain": "(2000000, '2003-12-29', 248, 4125185, 365.0, 3.97, 20576)"
     },
     "execution_count": 81,
     "metadata": {},
     "output_type": "execute_result"
    }
   ],
   "source": []
  },
  {
   "cell_type": "code",
   "execution_count": 72,
   "metadata": {},
   "outputs": [
    {
     "data": {
      "text/plain": "7596145"
     },
     "execution_count": 72,
     "metadata": {},
     "output_type": "execute_result"
    }
   ],
   "source": [
    "del trips, trips_tuples\n",
    "tc_upc = pd.read_csv(r'./dta_at_TC_upc.csv', index_col=0)\n",
    "sql = '''insert into Purchases(TC_id, quantity_at_TC_prod_id, total_price_paid_at_TC_prod_id, coupon_value_at_TC_prod_id, deal_flag_at_TC_prod_id, prod_id) values (%s, %s, %s, %s, %s, %s)'''\n",
    "# tc_upc_tuples = list(tc_upc[['TC_id', 'quantity_at_TC_prod_id', 'total_price_paid_at_TC_prod_id', 'coupon_value_at_TC_prod_id', 'deal_flag_at_TC_prod_id', 'prod_id']].itertuples(index=False, name=None))\n",
    "# mydbcursor = mydb.cursor()\n",
    "# mydbcursor.executemany(sql, tc_upc_tuples)\n",
    "# print(mydbcursor.rowcount)\n",
    "# mydb.commit()"
   ]
  },
  {
   "cell_type": "code",
   "execution_count": 71,
   "metadata": {},
   "outputs": [],
   "source": [
    "tc_upc = pd.read_csv(r'./dta_at_TC_upc.csv', index_col=0)\n",
    "sql = '''insert into Purchases(TC_id, quantity_at_TC_prod_id, total_price_paid_at_TC_prod_id, coupon_value_at_TC_prod_id, deal_flag_at_TC_prod_id, prod_id) values (%s, %s, %s, %s, %s, %s)'''\n",
    "tc_upc_tuples = list(tc_upc[['TC_id', 'quantity_at_TC_prod_id', 'total_price_paid_at_TC_prod_id', 'coupon_value_at_TC_prod_id', 'deal_flag_at_TC_prod_id', 'prod_id']].itertuples(index=False, name=None))\n",
    "n = len(tc_upc_tuples)//1000000\n",
    "for i in range(n):\n",
    "    if i == n-1:\n",
    "        mydbcursor.executemany(sql, tc_upc_tuples[i*1000000:])\n",
    "        print(f'affect {i*1000000 + mydbcursor.rowcount} rows')\n",
    "    else:\n",
    "        mydbcursor.executemany(sql, tc_upc_tuples[i*1000000:(i+1)*1000000])\n",
    "        print(f'affect {(i+1)*1000000} rows')\n",
    "    mydb.commit()\n",
    "mydb.close()"
   ]
  },
  {
   "cell_type": "code",
   "execution_count": 4,
   "metadata": {},
   "outputs": [
    {
     "name": "stderr",
     "output_type": "stream",
     "text": "C:\\Anaconda\\lib\\site-packages\\numpy\\lib\\arraysetops.py:569: FutureWarning: elementwise comparison failed; returning scalar instead, but in the future will perform elementwise comparison\n  mask |= (ar1 == a)\n"
    }
   ],
   "source": []
  },
  {
   "cell_type": "code",
   "execution_count": 5,
   "metadata": {},
   "outputs": [
    {
     "data": {
      "text/plain": "(38587942, 6)"
     },
     "execution_count": 5,
     "metadata": {},
     "output_type": "execute_result"
    }
   ],
   "source": []
  },
  {
   "cell_type": "code",
   "execution_count": null,
   "metadata": {},
   "outputs": [],
   "source": []
  }
 ],
 "metadata": {
  "kernelspec": {
   "display_name": "Python 3",
   "language": "python",
   "name": "python3"
  },
  "language_info": {
   "codemirror_mode": {
    "name": "ipython",
    "version": 3
   },
   "file_extension": ".py",
   "mimetype": "text/x-python",
   "name": "python",
   "nbconvert_exporter": "python",
   "pygments_lexer": "ipython3",
   "version": "3.7.3"
  }
 },
 "nbformat": 4,
 "nbformat_minor": 2
}